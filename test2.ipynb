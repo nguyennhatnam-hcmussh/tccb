{
 "cells": [
  {
   "cell_type": "code",
   "execution_count": 3,
   "metadata": {},
   "outputs": [],
   "source": [
    "import pandas as pd\n",
    "from main.models import Test\n",
    "from main.config import get_settings\n",
    "from main.db_setup import engine\n",
    "from sqlmodel import Session, select\n",
    "import datetime\n",
    "\n",
    "\n",
    "settings = get_settings()"
   ]
  },
  {
   "cell_type": "code",
   "execution_count": 9,
   "metadata": {},
   "outputs": [],
   "source": [
    "nhansu = pd.read_excel(settings.STATIC_MAIN_DIR / 'files' / 'nhansu_up.xlsx', 'nhansu', na_filter = False,index_col='id')\n"
   ]
  },
  {
   "cell_type": "code",
   "execution_count": 14,
   "metadata": {},
   "outputs": [
    {
     "name": "stdout",
     "output_type": "stream",
     "text": [
      "sohd='125/2023' id=4\n"
     ]
    }
   ],
   "source": [
    "with Session(engine) as session:\n",
    "    hd_lastest = session.exec(select(Test).order_by(Test.id.desc())).first()\n",
    "    print(hd_lastest)"
   ]
  },
  {
   "cell_type": "code",
   "execution_count": 13,
   "metadata": {},
   "outputs": [],
   "source": [
    "with Session(engine) as session:\n",
    "    hd1 = Test(sohd='125/2023')\n",
    "    session.add(hd1)\n",
    "    session.commit()"
   ]
  },
  {
   "cell_type": "code",
   "execution_count": 3,
   "metadata": {},
   "outputs": [
    {
     "name": "stdout",
     "output_type": "stream",
     "text": [
      "-419558400\n"
     ]
    }
   ],
   "source": [
    "test = str(int((datetime.datetime.strptime('15/09/1956', '%d/%m/%Y') - datetime.datetime(1970, 1, 1)).total_seconds()))\n",
    "print(test)"
   ]
  },
  {
   "cell_type": "code",
   "execution_count": 4,
   "metadata": {},
   "outputs": [
    {
     "name": "stdout",
     "output_type": "stream",
     "text": [
      "15/09/1956\n"
     ]
    }
   ],
   "source": [
    "date = (datetime.datetime(1970, 1, 1) + datetime.timedelta(seconds=int(test))).strftime(\"%d/%m/%Y\")\n",
    "print(date)"
   ]
  }
 ],
 "metadata": {
  "kernelspec": {
   "display_name": "env",
   "language": "python",
   "name": "python3"
  },
  "language_info": {
   "codemirror_mode": {
    "name": "ipython",
    "version": 3
   },
   "file_extension": ".py",
   "mimetype": "text/x-python",
   "name": "python",
   "nbconvert_exporter": "python",
   "pygments_lexer": "ipython3",
   "version": "3.11.8"
  }
 },
 "nbformat": 4,
 "nbformat_minor": 2
}
